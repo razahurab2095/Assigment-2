{
 "cells": [
  {
   "cell_type": "code",
   "execution_count": null,
   "id": "b5eb2196",
   "metadata": {},
   "outputs": [
    {
     "name": "stdout",
     "output_type": "stream",
     "text": [
      "\n",
      "Options:\n",
      "1. Add item to the list\n",
      "2. Remove item from the list\n",
      "3. Display current list\n",
      "4. Quit\n"
     ]
    }
   ],
   "source": [
    "class GroceryList:\n",
    "    def __init__(self):\n",
    "        self.items = []\n",
    "\n",
    "    def add_item(self, item):\n",
    "        self.items.append(item)\n",
    "        print(f\"{item} added to the list.\")\n",
    "\n",
    "    def remove_item(self, item):\n",
    "        if item in self.items:\n",
    "            self.items.remove(item)\n",
    "            print(f\"{item} removed from the list.\")\n",
    "        else:\n",
    "            print(f\"{item} not found in the list.\")\n",
    "\n",
    "    def display_list(self):\n",
    "        if not self.items:\n",
    "            print(\"The list is empty.\")\n",
    "        else:\n",
    "            print(\"Grocery List:\")\n",
    "            for index, item in enumerate(self.items, start=1):\n",
    "                print(f\"{index}. {item}\")\n",
    "\n",
    "def main():\n",
    "    grocery_list = GroceryList()\n",
    "\n",
    "    while True:\n",
    "        print(\"\\nOptions:\")\n",
    "        print(\"1. Add item to the list\")\n",
    "        print(\"2. Remove item from the list\")\n",
    "        print(\"3. Display current list\")\n",
    "        print(\"4. Quit\")\n",
    "\n",
    "        choice = input(\"Enter your choice (1-4): \")\n",
    "\n",
    "        if choice == \"1\":\n",
    "            item = input(\"Enter the item to add: \")\n",
    "            grocery_list.add_item(item)\n",
    "        elif choice == \"2\":\n",
    "            item = input(\"Enter the item to remove: \")\n",
    "            grocery_list.remove_item(item)\n",
    "        elif choice == \"3\":\n",
    "            grocery_list.display_list()\n",
    "        elif choice == \"4\":\n",
    "            print(\"Quitting the program. Goodbye!\")\n",
    "            break\n",
    "        else:\n",
    "            print(\"Invalid choice. Please enter a number between 1 and 4.\")\n",
    "\n",
    "if __name__ == \"__main__\":\n",
    "    main()"
   ]
  },
  {
   "cell_type": "code",
   "execution_count": 2,
   "id": "f5fee095",
   "metadata": {},
   "outputs": [
    {
     "name": "stdout",
     "output_type": "stream",
     "text": [
      "Enter student name: hurab \n",
      "Enter hurab 's grade: a\n"
     ]
    },
    {
     "ename": "ValueError",
     "evalue": "could not convert string to float: 'a'",
     "output_type": "error",
     "traceback": [
      "\u001b[1;31m---------------------------------------------------------------------------\u001b[0m",
      "\u001b[1;31mValueError\u001b[0m                                Traceback (most recent call last)",
      "Cell \u001b[1;32mIn[2], line 14\u001b[0m\n\u001b[0;32m     12\u001b[0m \u001b[38;5;28;01mfor\u001b[39;00m i \u001b[38;5;129;01min\u001b[39;00m \u001b[38;5;28mrange\u001b[39m(\u001b[38;5;241m5\u001b[39m):\n\u001b[0;32m     13\u001b[0m     student_name \u001b[38;5;241m=\u001b[39m \u001b[38;5;28minput\u001b[39m(\u001b[38;5;124m\"\u001b[39m\u001b[38;5;124mEnter student name: \u001b[39m\u001b[38;5;124m\"\u001b[39m)\n\u001b[1;32m---> 14\u001b[0m     grade \u001b[38;5;241m=\u001b[39m \u001b[38;5;28mfloat\u001b[39m(\u001b[38;5;28minput\u001b[39m(\u001b[38;5;124mf\u001b[39m\u001b[38;5;124m\"\u001b[39m\u001b[38;5;124mEnter \u001b[39m\u001b[38;5;132;01m{\u001b[39;00mstudent_name\u001b[38;5;132;01m}\u001b[39;00m\u001b[38;5;124m'\u001b[39m\u001b[38;5;124ms grade: \u001b[39m\u001b[38;5;124m\"\u001b[39m))\n\u001b[0;32m     15\u001b[0m     student_grades[student_name] \u001b[38;5;241m=\u001b[39m grade\n\u001b[0;32m     17\u001b[0m \u001b[38;5;66;03m# Calculate and print the average grade\u001b[39;00m\n",
      "\u001b[1;31mValueError\u001b[0m: could not convert string to float: 'a'"
     ]
    }
   ],
   "source": [
    "# Function to calculate the average grade\n",
    "def calculate_average(grades):\n",
    "    total_grades = sum(grades.values())\n",
    "    number_of_students = len(grades)\n",
    "    average_grade = total_grades / number_of_students\n",
    "    return average_grade\n",
    "\n",
    "# Dictionary to store student grades\n",
    "student_grades = {}\n",
    "\n",
    "# Taking input for at least 5 students\n",
    "for i in range(5):\n",
    "    student_name = input(\"Enter student name: \")\n",
    "    grade = float(input(f\"Enter {student_name}'s grade: \"))\n",
    "    student_grades[student_name] = grade\n",
    "\n",
    "# Calculate and print the average grade\n",
    "average = calculate_average(student_grades)\n",
    "print(f\"The average grade is: {average}\")"
   ]
  },
  {
   "cell_type": "code",
   "execution_count": 3,
   "id": "ca1dec06",
   "metadata": {},
   "outputs": [
    {
     "name": "stdout",
     "output_type": "stream",
     "text": [
      "apple: 3\n",
      "banana: 2\n",
      "orange: 1\n",
      "grape: 1\n"
     ]
    }
   ],
   "source": [
    "word_list = [\"apple\", \"banana\", \"apple\", \"orange\", \"banana\", \"grape\", \"apple\"]\n",
    "\n",
    "# Initialize an empty dictionary to store word frequencies\n",
    "word_freq = {}\n",
    "\n",
    "# Count the frequency of each word in the list\n",
    "for word in word_list:\n",
    "    if word in word_freq:\n",
    "        word_freq[word] += 1\n",
    "    else:\n",
    "        word_freq[word] = 1\n",
    "\n",
    "# Print the word frequencies\n",
    "for word, freq in word_freq.items():\n",
    "    print(f\"{word}: {freq}\")"
   ]
  },
  {
   "cell_type": "code",
   "execution_count": 4,
   "id": "e80a18e9",
   "metadata": {},
   "outputs": [
    {
     "name": "stdout",
     "output_type": "stream",
     "text": [
      "Enter your password: Strong2095\n",
      "Password is strong!\n"
     ]
    }
   ],
   "source": [
    "def is_password_strong(password):\n",
    "    # Check if the password is at least 8 characters long\n",
    "    if len(password) < 8:\n",
    "        return False\n",
    "    \n",
    "    # Check if the password contains at least one digit\n",
    "    if not any(char.isdigit() for char in password):\n",
    "        return False\n",
    "    \n",
    "    # Check if the password contains at least one letter\n",
    "    if not any(char.isalpha() for char in password):\n",
    "        return False\n",
    "    \n",
    "    # If all criteria are met, the password is considered strong\n",
    "    return True\n",
    "\n",
    "# Example usage:\n",
    "user_password = input(\"Enter your password: \")\n",
    "\n",
    "if is_password_strong(user_password):\n",
    "    print(\"Password is strong!\")\n",
    "else:\n",
    "    print(\"Password is not strong. Please follow the specified criteria.\")\n"
   ]
  },
  {
   "cell_type": "code",
   "execution_count": 5,
   "id": "e7261edb",
   "metadata": {},
   "outputs": [
    {
     "name": "stdout",
     "output_type": "stream",
     "text": [
      "Enter the number of voters participating in the awards: 1\n",
      "Nominees:\n",
      "1. Candidate A\n",
      "2. Candidate B\n",
      "3. Candidate C\n",
      "Enter the number of your preferred candidate: 2\n",
      "Vote for Candidate B recorded successfully!\n",
      "\n",
      "Voting Results:\n",
      "Candidate A: 0 votes\n",
      "Candidate B: 1 votes\n",
      "Candidate C: 0 votes\n"
     ]
    }
   ],
   "source": [
    "class VotingSystem:\n",
    "    def __init__(self, candidates):\n",
    "        self.candidates = candidates\n",
    "        self.votes = {candidate: 0 for candidate in candidates}\n",
    "\n",
    "    def display_candidates(self):\n",
    "        print(\"Nominees:\")\n",
    "        for i, candidate in enumerate(self.candidates, start=1):\n",
    "            print(f\"{i}. {candidate}\")\n",
    "\n",
    "    def vote(self, voter_count):\n",
    "        for _ in range(voter_count):\n",
    "            self.display_candidates()\n",
    "            try:\n",
    "                vote = int(input(\"Enter the number of your preferred candidate: \"))\n",
    "                if 1 <= vote <= len(self.candidates):\n",
    "                    candidate_voted = self.candidates[vote - 1]\n",
    "                    self.votes[candidate_voted] += 1\n",
    "                    print(f\"Vote for {candidate_voted} recorded successfully!\\n\")\n",
    "                else:\n",
    "                    print(\"Invalid vote. Please choose a valid candidate.\\n\")\n",
    "            except ValueError:\n",
    "                print(\"Invalid input. Please enter a valid number.\\n\")\n",
    "\n",
    "    def display_results(self):\n",
    "        print(\"Voting Results:\")\n",
    "        for candidate, votes in self.votes.items():\n",
    "            print(f\"{candidate}: {votes} votes\")\n",
    "\n",
    "    def run_voting_system(self):\n",
    "        try:\n",
    "            voter_count = int(input(\"Enter the number of voters participating in the awards: \"))\n",
    "            if voter_count <= 0:\n",
    "                print(\"Invalid input. Please enter a positive number of voters.\")\n",
    "                return\n",
    "            self.vote(voter_count)\n",
    "            self.display_results()\n",
    "        except ValueError:\n",
    "            print(\"Invalid input. Please enter a valid number of voters.\")\n",
    "\n",
    "if __name__ == \"__main__\":\n",
    "    candidates_list = ['Candidate A', 'Candidate B', 'Candidate C']\n",
    "    voting_system = VotingSystem(candidates_list)\n",
    "    voting_system.run_voting_system()\n"
   ]
  },
  {
   "cell_type": "code",
   "execution_count": null,
   "id": "5148bb23",
   "metadata": {},
   "outputs": [],
   "source": []
  }
 ],
 "metadata": {
  "kernelspec": {
   "display_name": "Python 3 (ipykernel)",
   "language": "python",
   "name": "python3"
  },
  "language_info": {
   "codemirror_mode": {
    "name": "ipython",
    "version": 3
   },
   "file_extension": ".py",
   "mimetype": "text/x-python",
   "name": "python",
   "nbconvert_exporter": "python",
   "pygments_lexer": "ipython3",
   "version": "3.11.5"
  }
 },
 "nbformat": 4,
 "nbformat_minor": 5
}
